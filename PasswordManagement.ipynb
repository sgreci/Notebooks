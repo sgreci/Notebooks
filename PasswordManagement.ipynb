{
    "metadata": {
        "kernelspec": {
            "name": "powershell",
            "display_name": "PowerShell",
            "language": "powershell"
        },
        "language_info": {
            "name": "powershell",
            "codemirror_mode": "shell",
            "mimetype": "text/x-sh",
            "file_extension": ".ps1"
        }
    },
    "nbformat_minor": 2,
    "nbformat": 4,
    "cells": [
        {
            "cell_type": "markdown",
            "source": [
                "## Prototipo di gestione password su ambienti Microsoft SQL Server \n",
                "\n",
                "<span style=\"font-size: 14px;\">Autori: Simone Greci, Leonardo Contini, Donato Chiarello</span>"
            ],
            "metadata": {
                "azdata_cell_guid": "5d160ab9-4768-4315-b0b4-61a8f4262473"
            }
        },
        {
            "cell_type": "markdown",
            "source": [
                "Creazione database:"
            ],
            "metadata": {
                "azdata_cell_guid": "f31abd2e-aa61-4854-8bce-99551db26f76"
            }
        },
        {
            "cell_type": "code",
            "source": [
                "create database AuthorizationConfig\r\n",
                "go"
            ],
            "metadata": {
                "azdata_cell_guid": "48cc5b00-6ff2-4162-ac32-a1619d4d4794",
                "tags": [
                    "hide_input"
                ]
            },
            "outputs": [],
            "execution_count": null
        },
        {
            "cell_type": "markdown",
            "source": [
                "Creazione tabella di supporto:"
            ],
            "metadata": {
                "azdata_cell_guid": "9daa64f0-db52-4e28-b7d5-f3c1d77786c3"
            }
        },
        {
            "cell_type": "code",
            "source": [
                "use AuthorizationConfig\r\n",
                "go\r\n",
                "\r\n",
                "create table passwords_config\r\n",
                "(\r\n",
                "    id int identity(1,1) primary key,\r\n",
                "    server_name varchar(255) not null, --FQDN/IP Address of the database server\r\n",
                "    server_type varchar(10) not NULL, --describe the type os database server (eg: Orale, SQLServer, etc...)\r\n",
                "    username varchar(255) not null, --username\r\n",
                "    keepass_entry varchar(255) not null, --keepass entry name for the user\r\n",
                "    ssis_parameter_name varchar(255) null, --ssis parameter name mapped for this user\r\n",
                "    keepass_file_db_path_1 varchar(1024) null, --path of the 1st database file\r\n",
                "    keepass_file_key_path_1 varchar(1024) null, --path of the 1st key file\r\n",
                "    keepass_file_db_path_2 varchar(1024) null, --path of the 2nd database file\r\n",
                "    keepass_file_key_path_2 varchar(1024) null --path of the 2nd key file\r\n",
                ")\r\n",
                "\r\n",
                "#create unique constraint\r\n",
                "CREATE UNIQUE NONCLUSTERED INDEX IX_passwords_config_servername_username ON passwords_config (server_name, username)\r\n",
                "\r\n",
                "#insert test data\r\n",
                "INSERT INTO passwords_config ([server_name],[server_type],[username],[keepass_entry],[ssis_parameter_name],[keepass_file_db_path_1],[keepass_file_key_path_1],[keepass_file_db_path_2],[keepass_file_key_path_2])\r\n",
                "VALUES ('localhost','SQLServer','localhost_user1','user1','localhost_user1','C:\\Projects\\database1.keyx','C:\\Projects\\database1.keyx','C:\\Projects\\database2.keyx','C:\\Projects\\database2.keyx')\r\n",
                ""
            ],
            "metadata": {
                "azdata_cell_guid": "0ae9c26d-a57b-48ba-bc39-03f3c2a6fbf0"
            },
            "outputs": [],
            "execution_count": null
        },
        {
            "cell_type": "markdown",
            "source": [
                "Esempi di utilizzo commandlets Keepass disponibili su GitHub:\n",
                "\n",
                "https://github.com/PSKeePass/PoShKeePass"
            ],
            "metadata": {
                "azdata_cell_guid": "5d6fd662-6d11-473e-afef-93a37237c26d"
            }
        },
        {
            "cell_type": "code",
            "source": [
                "#Install PoShKeePass commandlets\r\n",
                "if($null -eq (Get-InstalledModule PoShKeePass))\r\n",
                "{\r\n",
                "    Install-Module PoShKeePass\r\n",
                "}\r\n",
                "\r\n",
                "#Create a new configuration\r\n",
                "if($null -eq (Get-KeePassDatabaseConfiguration -DatabaseProfileName ssis))\r\n",
                "{\r\n",
                "    New-KeePassDatabaseConfiguration -DatabasePath \"C:\\Projects\\database1.kdbx\" -DatabaseProfileName \"ssis\" -KeyPath \"C:\\Projects\\database1.keyx\"\r\n",
                "}\r\n",
                "\r\n",
                "#Get the configuration\r\n",
                "Get-KeePassDatabaseConfiguration -DatabaseProfileName ssis\r\n",
                "\r\n",
                "#Read entry from database\r\n",
                "Get-KeePassEntry -DatabaseProfileName ssis -Title \"localhost_user1\" -AsPlainText"
            ],
            "metadata": {
                "azdata_cell_guid": "25d11157-805e-42fc-a918-a15ae1d59417"
            },
            "outputs": [],
            "execution_count": null
        },
        {
            "cell_type": "markdown",
            "source": [
                "Utilizzo modulo \"SimplySQL\" -\\> https://github.com/mithrandyr/SimplySql per interrogare il database:"
            ],
            "metadata": {
                "azdata_cell_guid": "8553e74a-c769-40ae-9754-264ceae698d2"
            }
        },
        {
            "cell_type": "code",
            "source": [
                "if($null -eq (Get-InstalledModule SimplySql))\n",
                "{\n",
                "    Install-Module SimplySql\n",
                "}\r\n",
                "\r\n",
                "#open connectino to database:\r\n",
                "Open-SqlConnection -ConnectionName \"sqlserver\" -Server localhost -Database \"AuthorizationConfig\"\r\n",
                "\r\n",
                "#open record\r\n",
                "$results = Invoke-SqlQuery -ConnectionName \"sqlserver\" -Query \"SELECT TOP 1 * FROM dbo.passwords_config\"\r\n",
                "\r\n",
                "foreach($row in $results)\r\n",
                "{\r\n",
                "   Write-Host $row[\"keepass_entry\"]\r\n",
                "}"
            ],
            "metadata": {
                "azdata_cell_guid": "85e11a5d-aaba-410a-8349-59bb69faf809",
                "tags": []
            },
            "outputs": [
                {
                    "output_type": "stream",
                    "name": "stdout",
                    "text": "user1\n"
                }
            ],
            "execution_count": 1
        }
    ]
}