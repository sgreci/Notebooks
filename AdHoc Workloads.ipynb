{
    "metadata": {
        "kernelspec": {
            "name": "SQL",
            "display_name": "SQL",
            "language": "sql"
        },
        "language_info": {
            "name": "sql",
            "version": ""
        }
    },
    "nbformat_minor": 2,
    "nbformat": 4,
    "cells": [
        {
            "cell_type": "markdown",
            "source": [
                "### **Analisi Ad-Hoc Workload**\n",
                "Composizione della Cache dei piani di esecuzione"
            ],
            "metadata": {
                "azdata_cell_guid": "0e2a01af-455e-4352-bd8e-9485ba4492b7"
            }
        },
        {
            "cell_type": "code",
            "source": [
                "SELECT\r\n",
                "AdHoc_Plan_MB, Total_Cache_MB,\r\n",
                "AdHoc_Plan_MB*100.0 / Total_Cache_MB AS 'AdHoc %'\r\n",
                "FROM (\r\n",
                "SELECT SUM(CASE\r\n",
                "WHEN objtype = 'adhoc'\r\n",
                "           THEN CONVERT(BIGINT,size_in_bytes)\r\n",
                "ELSE 0 END) / 1048576.0 AdHoc_Plan_MB,\r\n",
                "           SUM(CONVERT(BIGINT,size_in_bytes)) / 1048576.0 Total_Cache_MB\r\n",
                "FROM sys.dm_exec_cached_plans) T"
            ],
            "metadata": {
                "azdata_cell_guid": "59482d45-73a1-4012-b2f1-1bfcbf4f10e4"
            },
            "outputs": [],
            "execution_count": null
        },
        {
            "cell_type": "markdown",
            "source": [
                "Numero dei piani di esecuzione ad-hoc in cache:"
            ],
            "metadata": {
                "azdata_cell_guid": "b0f72f49-d120-4711-86b6-3f31ca77cf34"
            }
        },
        {
            "cell_type": "code",
            "source": [
                "SELECT SUM(c.usecounts)\r\n",
                ", c.objtype\r\n",
                "FROM sys.dm_exec_cached_plans AS c\r\n",
                "CROSS APPLY sys.dm_exec_sql_text(plan_handle) AS t\r\n",
                "CROSS APPLY sys.dm_exec_query_plan(plan_handle) AS q\r\n",
                "GROUP BY c.objtype"
            ],
            "metadata": {
                "azdata_cell_guid": "7af373f9-2c13-40bf-9419-248d69ec8422"
            },
            "outputs": [],
            "execution_count": null
        },
        {
            "cell_type": "markdown",
            "source": [
                "Numero dei piani di esecuzione ad-hoc utilizzati solo una volta:"
            ],
            "metadata": {
                "azdata_cell_guid": "c9bfec64-075f-4516-a7e9-6f4500488670"
            }
        },
        {
            "cell_type": "code",
            "source": [
                "SELECT objtype AS [CacheType],\r\n",
                "    COUNT_BIG(*) AS [Total Plans],\r\n",
                "    SUM(CAST(size_in_bytes AS DECIMAL(18, 2))) / 1024 / 1024 AS [Total MBs],\r\n",
                "    AVG(usecounts) AS [Avg Use Count],\r\n",
                "    SUM(CAST((CASE WHEN usecounts = 1 THEN size_in_bytes\r\n",
                "ELSE 0\r\n",
                "END) AS DECIMAL(18, 2))) / 1024 / 1024 AS [Total MBs – USE Count 1],\r\n",
                "    SUM(CASE WHEN usecounts = 1 THEN 1\r\n",
                "ELSE 0\r\n",
                "END) AS [Total Plans – USE Count 1]\r\n",
                "FROM sys.dm_exec_cached_plans\r\n",
                "GROUP BY objtype\r\n",
                "ORDER BY [Total MBs – USE Count 1] DESC\r\n",
                "GO"
            ],
            "metadata": {
                "azdata_cell_guid": "96af4868-dec0-4086-be43-97da720883b6"
            },
            "outputs": [],
            "execution_count": null
        }
    ]
}